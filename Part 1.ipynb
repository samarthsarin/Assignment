{
 "cells": [
  {
   "cell_type": "markdown",
   "metadata": {},
   "source": [
    "Name: [ENTER YOUR FULLNAME]\n",
    "\n",
    "Student number: [ENTER YOUR STUDENT NUMBER]"
   ]
  },
  {
   "cell_type": "markdown",
   "metadata": {},
   "source": [
    "# Question 1 (10 marks)"
   ]
  },
  {
   "cell_type": "markdown",
   "metadata": {},
   "source": [
    "Given the supplier defined as *supplier_102* in the cell below, write python code to perform the following:\n",
    "\n",
    "1. Print all the keys from the dictionary\n",
    "\n",
    "2. Print all the values from the dictionary\n",
    "\n",
    "3. Check if item 'mobile' exists and print an appropriate message (whether it exists or not)\n",
    "\n",
    "4. Delete all items from the dictionary and print\n",
    "\n",
    "Notes:\n",
    "- Everytime you perform an operation, *print* the variable(s) to get some evidence that it worked'\n",
    "- And print a blank line (e.g. *print()*) to get a blank line beween the values printed.\n",
    "- Hardcoding the answer (i.e. manually computing the answers) will result in no mark for this question. If you are not sure what hard-coding is, please consult with your tutor.\n",
    "\n",
    "Hints: \n",
    "- *Week 2 Lecture notes* and *Lab Task 2.1 - Data Type: Collections*"
   ]
  },
  {
   "cell_type": "code",
   "execution_count": 1,
   "metadata": {},
   "outputs": [
    {
     "name": "stdout",
     "output_type": "stream",
     "text": [
      "Following are all the keys:  ['city', 'contact_firstname', 'contact_lastname', 'contact_title', 'country', 'email', 'notes', 'phone', 'postcode', 'state', 'street_address', 'supplier_id', 'supplier_name']\n",
      "\n",
      "\n",
      "Following are all the values:  ['Lake Peterfurt', 'Lucas', 'Reyes', 'Mr', 'Australia', 'lucas7404.reyes@gmail.com', '', '(02) 2310 6339', '2634', 'Reyes', '09 /\\n 0 Tara Laneway', 102, 'Mata, Townsend and Black']\n",
      "\n",
      "\n",
      "Mobile doesnot exist in the items\n",
      "\n",
      "\n",
      "{}\n"
     ]
    }
   ],
   "source": [
    "supplier_102 =  {\n",
    "    \"city\": \"Lake Peterfurt\",\n",
    "    \"contact_firstname\": \"Lucas\",\n",
    "    \"contact_lastname\": \"Reyes\",\n",
    "    \"contact_title\": \"Mr\",\n",
    "    \"country\": \"Australia\",\n",
    "    \"email\": \"lucas7404.reyes@gmail.com\",\n",
    "    \"notes\": \"\",\n",
    "    \"phone\": \"(02) 2310 6339\",\n",
    "    \"postcode\": \"2634\",\n",
    "    \"state\": \"Reyes\",\n",
    "    \"street_address\": \"09 /\\n 0 Tara Laneway\",\n",
    "    \"supplier_id\": 102,\n",
    "    \"supplier_name\": \"Mata, Townsend and Black\"\n",
    "}\n",
    "\n",
    "# Write your code below this line\n",
    "\n",
    "# 1. Print all the keys from the dictionary\n",
    "all_keys = supplier_102.keys()\n",
    "print('Following are all the keys: ',list(all_keys))\n",
    "print('\\n')\n",
    "\n",
    "# 2. Print all the values from the dictionary\n",
    "all_values = supplier_102.values()\n",
    "print('Following are all the values: ',list(all_values))\n",
    "print('\\n')\n",
    "\n",
    "# 3. Check if item 'mobile' exists and print an appropriate message (whether it exists or not)\n",
    "if 'mobile' in all_keys:\n",
    "    print('Mobile exist in the items')\n",
    "else:\n",
    "    print('Mobile doesnot exist in the items')\n",
    "print('\\n')\n",
    "\n",
    "# 4. Delete all items from the dictionary and print\n",
    "supplier_102.clear()\n",
    "print(supplier_102)\n",
    "\n"
   ]
  },
  {
   "cell_type": "markdown",
   "metadata": {},
   "source": [
    "# Question 2 (10 marks)"
   ]
  },
  {
   "cell_type": "markdown",
   "metadata": {},
   "source": [
    "Given a list of products, defined as *products* in the cell below, write python code to perform the following:\n",
    "\n",
    "1. Find the length of list\n",
    "\n",
    "2. Change \"supplier_name\" of supplier with \"supplier_id\"=102 from \"Mata, Townsend and Black\" to \"Mata, Townsend and Black & Co.\" \n",
    "\n",
    "3. Add a new supplier to the list with the following details:\n",
    "   - city: Bankstown\n",
    "   - contact_firstname: Robert\n",
    "   - contact_lastname: Johnson\n",
    "   - contact_title: Mr\n",
    "   - country: Australia\n",
    "   - email: robert8343.johnson@gmail.com\n",
    "   - notes: \"\"\n",
    "   - phone: 0477 023 763\n",
    "   - postcode: 2627\n",
    "   - state: Johnson\n",
    "   - street_address: 33 Cain Tarn\n",
    "   - supplier_id: 104\n",
    "   - supplier_name: Drake-Henry\n",
    "   \n",
    "4. Remove supplier with \"supplier_id\" = 103 from the list\n",
    "\n",
    "Notes:\n",
    "- Hardcoding the answer (i.e. manually computing the answers) will result in no mark for this question. If you are not sure what hard-coding is, please consult with your tutor.\n",
    "- Hardcoding will no longer be mentioned as it is implied for all the work that you do in this course!\n",
    "\n",
    "Hints: \n",
    "- *Week 2 Lecture notes* (lists, dictionaries), *Week 3 Lecture notes* (loops and conditional statements) and *Lab Task 3.1 - Programming Constructs* (loops and conditional statements)."
   ]
  },
  {
   "cell_type": "code",
   "execution_count": 2,
   "metadata": {},
   "outputs": [
    {
     "name": "stdout",
     "output_type": "stream",
     "text": [
      "Length of the list is  3\n",
      "\n",
      "\n",
      "New Supplier Name is a follows: \n",
      "\n",
      "\n",
      "[{'city': 'St. Kellyton', 'contact_firstname': 'Michelle', 'contact_lastname': 'Mitchell', 'contact_title': 'Mrs', 'country': 'Australia', 'email': 'michelle3113.mitchell@gmail.com', 'notes': '', 'phone': '(03) 9269 4800', 'postcode': '2693', 'state': 'Mitchell', 'street_address': '2 Alexander Grove', 'supplier_id': 101, 'supplier_name': 'Ferguson Inc'}, {'city': 'Lake Peterfurt', 'contact_firstname': 'Lucas', 'contact_lastname': 'Reyes', 'contact_title': 'Mr', 'country': 'Australia', 'email': 'lucas7404.reyes@gmail.com', 'notes': '', 'phone': '(02) 2310 6339', 'postcode': '2634', 'state': 'Reyes', 'street_address': '09 /\\n 0 Tara Laneway', 'supplier_id': 102, 'supplier_name': 'Mata, Townsend and Black & Co.'}, {'city': 'Parkerborough', 'contact_firstname': 'Marcia', 'contact_lastname': 'Stanley', 'contact_title': 'Mrs', 'country': 'Australia', 'email': 'marcia2459.stanley@gmail.com', 'notes': '', 'phone': '(07) 2644 5735', 'postcode': '2619', 'state': 'Stanley', 'street_address': 'Suite 071\\n 3 Cody Upper', 'supplier_id': 103, 'supplier_name': 'White, Vargas and Ballard'}]\n",
      "\n",
      "\n",
      "All Suppliers list after adding new supplier and has length of  4\n",
      "\n",
      "\n",
      "[{'city': 'St. Kellyton', 'contact_firstname': 'Michelle', 'contact_lastname': 'Mitchell', 'contact_title': 'Mrs', 'country': 'Australia', 'email': 'michelle3113.mitchell@gmail.com', 'notes': '', 'phone': '(03) 9269 4800', 'postcode': '2693', 'state': 'Mitchell', 'street_address': '2 Alexander Grove', 'supplier_id': 101, 'supplier_name': 'Ferguson Inc'}, {'city': 'Lake Peterfurt', 'contact_firstname': 'Lucas', 'contact_lastname': 'Reyes', 'contact_title': 'Mr', 'country': 'Australia', 'email': 'lucas7404.reyes@gmail.com', 'notes': '', 'phone': '(02) 2310 6339', 'postcode': '2634', 'state': 'Reyes', 'street_address': '09 /\\n 0 Tara Laneway', 'supplier_id': 102, 'supplier_name': 'Mata, Townsend and Black & Co.'}, {'city': 'Parkerborough', 'contact_firstname': 'Marcia', 'contact_lastname': 'Stanley', 'contact_title': 'Mrs', 'country': 'Australia', 'email': 'marcia2459.stanley@gmail.com', 'notes': '', 'phone': '(07) 2644 5735', 'postcode': '2619', 'state': 'Stanley', 'street_address': 'Suite 071\\n 3 Cody Upper', 'supplier_id': 103, 'supplier_name': 'White, Vargas and Ballard'}, {'city': 'Bankstown', 'contact_firstname': 'Robert', 'contact_lastname': 'Johnson', 'contact_title': 'Mr', 'country': 'Australia', 'email': 'robert8343.johnson@gmail.com', 'notes': '', 'phone': '0477 023 763', 'postcode': 2627, 'state': 'Johnson', 'street_address': '33 Cain Tarn', 'supplier_id': 104, 'supplier_name': 'Drake-Henry'}]\n",
      "\n",
      "\n"
     ]
    },
    {
     "data": {
      "text/plain": [
       "[{'city': 'St. Kellyton',\n",
       "  'contact_firstname': 'Michelle',\n",
       "  'contact_lastname': 'Mitchell',\n",
       "  'contact_title': 'Mrs',\n",
       "  'country': 'Australia',\n",
       "  'email': 'michelle3113.mitchell@gmail.com',\n",
       "  'notes': '',\n",
       "  'phone': '(03) 9269 4800',\n",
       "  'postcode': '2693',\n",
       "  'state': 'Mitchell',\n",
       "  'street_address': '2 Alexander Grove',\n",
       "  'supplier_id': 101,\n",
       "  'supplier_name': 'Ferguson Inc'},\n",
       " {'city': 'Lake Peterfurt',\n",
       "  'contact_firstname': 'Lucas',\n",
       "  'contact_lastname': 'Reyes',\n",
       "  'contact_title': 'Mr',\n",
       "  'country': 'Australia',\n",
       "  'email': 'lucas7404.reyes@gmail.com',\n",
       "  'notes': '',\n",
       "  'phone': '(02) 2310 6339',\n",
       "  'postcode': '2634',\n",
       "  'state': 'Reyes',\n",
       "  'street_address': '09 /\\n 0 Tara Laneway',\n",
       "  'supplier_id': 102,\n",
       "  'supplier_name': 'Mata, Townsend and Black & Co.'},\n",
       " {'city': 'Bankstown',\n",
       "  'contact_firstname': 'Robert',\n",
       "  'contact_lastname': 'Johnson',\n",
       "  'contact_title': 'Mr',\n",
       "  'country': 'Australia',\n",
       "  'email': 'robert8343.johnson@gmail.com',\n",
       "  'notes': '',\n",
       "  'phone': '0477 023 763',\n",
       "  'postcode': 2627,\n",
       "  'state': 'Johnson',\n",
       "  'street_address': '33 Cain Tarn',\n",
       "  'supplier_id': 104,\n",
       "  'supplier_name': 'Drake-Henry'}]"
      ]
     },
     "execution_count": 2,
     "metadata": {},
     "output_type": "execute_result"
    }
   ],
   "source": [
    "suppliers = [\n",
    "    {\n",
    "        \"city\": \"St. Kellyton\",\n",
    "        \"contact_firstname\": \"Michelle\",\n",
    "        \"contact_lastname\": \"Mitchell\",\n",
    "        \"contact_title\": \"Mrs\",\n",
    "        \"country\": \"Australia\",\n",
    "        \"email\": \"michelle3113.mitchell@gmail.com\",\n",
    "        \"notes\": \"\",\n",
    "        \"phone\": \"(03) 9269 4800\",\n",
    "        \"postcode\": \"2693\",\n",
    "        \"state\": \"Mitchell\",\n",
    "        \"street_address\": \"2 Alexander Grove\",\n",
    "        \"supplier_id\": 101,\n",
    "        \"supplier_name\": \"Ferguson Inc\"\n",
    "    },\n",
    "    {\n",
    "        \"city\": \"Lake Peterfurt\",\n",
    "        \"contact_firstname\": \"Lucas\",\n",
    "        \"contact_lastname\": \"Reyes\",\n",
    "        \"contact_title\": \"Mr\",\n",
    "        \"country\": \"Australia\",\n",
    "        \"email\": \"lucas7404.reyes@gmail.com\",\n",
    "        \"notes\": \"\",\n",
    "        \"phone\": \"(02) 2310 6339\",\n",
    "        \"postcode\": \"2634\",\n",
    "        \"state\": \"Reyes\",\n",
    "        \"street_address\": \"09 /\\n 0 Tara Laneway\",\n",
    "        \"supplier_id\": 102,\n",
    "        \"supplier_name\": \"Mata, Townsend and Black\"\n",
    "    },\n",
    "    {\n",
    "        \"city\": \"Parkerborough\",\n",
    "        \"contact_firstname\": \"Marcia\",\n",
    "        \"contact_lastname\": \"Stanley\",\n",
    "        \"contact_title\": \"Mrs\",\n",
    "        \"country\": \"Australia\",\n",
    "        \"email\": \"marcia2459.stanley@gmail.com\",\n",
    "        \"notes\": \"\",\n",
    "        \"phone\": \"(07) 2644 5735\",\n",
    "        \"postcode\": \"2619\",\n",
    "        \"state\": \"Stanley\",\n",
    "        \"street_address\": \"Suite 071\\n 3 Cody Upper\",\n",
    "        \"supplier_id\": 103,\n",
    "        \"supplier_name\": \"White, Vargas and Ballard\"\n",
    "    }\n",
    "]\n",
    "    \n",
    "# Write your code below this line\n",
    "\n",
    "# 1. Find the length of list\n",
    "#   (and print something to provide evidence that it worked)\n",
    "list_length = len(suppliers)\n",
    "print('Length of the list is ',list_length)\n",
    "print('\\n')\n",
    "\n",
    "# 2. Change \"supplier_name\" of supplier with \"supplier_id\"=102 from \"Mata, Townsend and Black\" to \"Mata, Townsend and Black & Co.\" \n",
    "#   (and print something to provide evidence that it worked)\n",
    "suppliers[1]['supplier_name'] = 'Mata, Townsend and Black & Co.'\n",
    "print('New Supplier Name is a follows: ')\n",
    "print('\\n')\n",
    "print(suppliers)\n",
    "print('\\n')\n",
    "# 3. Add a new supplier to the list\n",
    "#   (and print something to provide evidence that it worked)\n",
    "new_supplier = {'city': 'Bankstown','contact_firstname': 'Robert','contact_lastname': 'Johnson','contact_title': 'Mr',\n",
    "                'country': 'Australia','email': 'robert8343.johnson@gmail.com','notes': \"\",'phone': '0477 023 763',\n",
    "                'postcode': 2627,'state': 'Johnson','street_address': '33 Cain Tarn','supplier_id': 104,\n",
    "                'supplier_name': 'Drake-Henry'}\n",
    "suppliers.append(new_supplier)\n",
    "print('All Suppliers list after adding new supplier and has length of ',len(suppliers))\n",
    "print('\\n')\n",
    "print(suppliers)\n",
    "print('\\n')\n",
    "# 4. Remove supplier  with \"supplier_id\" =103\n",
    "#   (and print something to provide evidence that it worked)\n",
    "\n",
    "suppliers.pop(2)\n",
    "suppliers\n"
   ]
  },
  {
   "cell_type": "markdown",
   "metadata": {},
   "source": [
    "# Question 3 (10 marks)"
   ]
  },
  {
   "cell_type": "markdown",
   "metadata": {},
   "source": [
    "Given a list of numbers, defined as *lst_num* in the cell below, write python code to perform the following:\n",
    "\n",
    "1. Find the highest number in the list.\n",
    "\n",
    "2. Write the code as a function and call the function with the list of numbers as parameter. \n",
    "\n",
    "3. Print the result so that we can see the outcome.\n",
    "\n",
    "Skeleton code has been provided in the cell below to facilitate your task.\n",
    "\n",
    "Hints: \n",
    "- *Week 3 Lecture notes* (loops and conditional statements) and *Lab Task 3.2 - User Defined Functions* (loops and conditional statements)."
   ]
  },
  {
   "cell_type": "code",
   "execution_count": 3,
   "metadata": {},
   "outputs": [
    {
     "data": {
      "text/plain": [
       "30"
      ]
     },
     "execution_count": 3,
     "metadata": {},
     "output_type": "execute_result"
    }
   ],
   "source": [
    "# List of numbers\n",
    "lst_num = [1, 25, 2, 30, 8]\n",
    "\n",
    "\n",
    "# 1. Define the function\n",
    "def max_items(items):    \n",
    "    max = 0\n",
    "    \n",
    "    # Write your code below this line\n",
    "    for i in items:\n",
    "        if i > max:\n",
    "            max = i\n",
    "    \n",
    "    return max\n",
    "\n",
    "\n",
    "# 2. Call the function\n",
    "# Write your code below this line\n",
    "\n",
    "max_items(lst_num)\n"
   ]
  },
  {
   "cell_type": "markdown",
   "metadata": {},
   "source": [
    "# Question 4 (10 marks)"
   ]
  },
  {
   "cell_type": "markdown",
   "metadata": {},
   "source": [
    "Given the list of *suppliers* defined in the cell below, write python code to:\n",
    "\n",
    "1. Process the list of dictionaries to create a list of *supplier_name*.\n",
    "\n",
    "2. Join the *supplier_name* with a semi-colon followed by space to form a single string e.g. *Ferguson Inc; Mata, Townsend and Black; White, Vargas and Ballard* and print the string.\n",
    "\n",
    "Hints:\n",
    "- *Week 2 Lecture notes* (lists, dictionaries), *Week 3 Lecture notes* (loops and conditional statements), *Lab Task 3.1 - Programming Constructs* (loops and conditional statements) and *Lab Task 3.4 - Advanced Techniques for Collections* (joining items in a list as a single string)"
   ]
  },
  {
   "cell_type": "code",
   "execution_count": 4,
   "metadata": {},
   "outputs": [
    {
     "name": "stdout",
     "output_type": "stream",
     "text": [
      "Supplier Name before joining the list\n",
      "\n",
      "\n",
      "['Ferguson Inc', 'Mata, Townsend and Black', 'White, Vargas and Ballard']\n",
      "\n",
      "\n",
      "Supplier Name after joining the list\n",
      "\n",
      "\n",
      "Ferguson Inc; Mata, Townsend and Black; White, Vargas and Ballard\n"
     ]
    }
   ],
   "source": [
    "suppliers = [\n",
    "    {\n",
    "        \"city\": \"St. Kellyton\",\n",
    "        \"contact_firstname\": \"Michelle\",\n",
    "        \"contact_lastname\": \"Mitchell\",\n",
    "        \"contact_title\": \"Mrs\",\n",
    "        \"country\": \"Australia\",\n",
    "        \"email\": \"michelle3113.mitchell@gmail.com\",\n",
    "        \"notes\": \"\",\n",
    "        \"phone\": \"(03) 9269 4800\",\n",
    "        \"postcode\": \"2693\",\n",
    "        \"state\": \"Mitchell\",\n",
    "        \"street_address\": \"2 Alexander Grove\",\n",
    "        \"supplier_id\": 101,\n",
    "        \"supplier_name\": \"Ferguson Inc\"\n",
    "    },\n",
    "    {\n",
    "        \"city\": \"Lake Peterfurt\",\n",
    "        \"contact_firstname\": \"Lucas\",\n",
    "        \"contact_lastname\": \"Reyes\",\n",
    "        \"contact_title\": \"Mr\",\n",
    "        \"country\": \"Australia\",\n",
    "        \"email\": \"lucas7404.reyes@gmail.com\",\n",
    "        \"notes\": \"\",\n",
    "        \"phone\": \"(02) 2310 6339\",\n",
    "        \"postcode\": \"2634\",\n",
    "        \"state\": \"Reyes\",\n",
    "        \"street_address\": \"09 /\\n 0 Tara Laneway\",\n",
    "        \"supplier_id\": 102,\n",
    "        \"supplier_name\": \"Mata, Townsend and Black\"\n",
    "    },\n",
    "    {\n",
    "        \"city\": \"Parkerborough\",\n",
    "        \"contact_firstname\": \"Marcia\",\n",
    "        \"contact_lastname\": \"Stanley\",\n",
    "        \"contact_title\": \"Mrs\",\n",
    "        \"country\": \"Australia\",\n",
    "        \"email\": \"marcia2459.stanley@gmail.com\",\n",
    "        \"notes\": \"\",\n",
    "        \"phone\": \"(07) 2644 5735\",\n",
    "        \"postcode\": \"2619\",\n",
    "        \"state\": \"Stanley\",\n",
    "        \"street_address\": \"Suite 071\\n 3 Cody Upper\",\n",
    "        \"supplier_id\": 103,\n",
    "        \"supplier_name\": \"White, Vargas and Ballard\"\n",
    "    }\n",
    "]\n",
    "    \n",
    "    \n",
    "# Write your code below this line\n",
    "\n",
    "supplier_name = []\n",
    "for i in range(len(suppliers)):\n",
    "    supplier_name.append(suppliers[i]['supplier_name'])\n",
    "    \n",
    "print('Supplier Name before joining the list')\n",
    "print('\\n')\n",
    "print(supplier_name)\n",
    "print('\\n')\n",
    "print('Supplier Name after joining the list')\n",
    "print('\\n')\n",
    "supplier_name = '; '.join(supplier_name)\n",
    "print(supplier_name)"
   ]
  },
  {
   "cell_type": "markdown",
   "metadata": {},
   "source": [
    "# Question 5 (10 marks)"
   ]
  },
  {
   "cell_type": "markdown",
   "metadata": {},
   "source": [
    "In the cell below, write python code to do:\n",
    "\n",
    "1. Create a dictionary named *prod_104* with the following key/value pairs:\n",
    "   - discontinued: 0\n",
    "   - lead_time_days: 4\n",
    "   - product_category: Personal Computers\n",
    "   - product_description: 8 inch Display (1920x1200) ...\n",
    "   - product_id: 104\n",
    "   - product_name: NVIDIA SHIELD Tablet (WiFi)\n",
    "   - reorder_level: 10\n",
    "   - unit_price: 299.0\n",
    "\n",
    "2. Print the dictionary\n",
    "\n",
    "Hints:\n",
    "- *Week 2 Lecture notes* and *Lab Task 2.1 - Data Type: Collections*"
   ]
  },
  {
   "cell_type": "code",
   "execution_count": 5,
   "metadata": {},
   "outputs": [
    {
     "name": "stdout",
     "output_type": "stream",
     "text": [
      "{'discontinued': 0, 'lead_time_days': 4, 'product_category': 'Personal Computers', 'product_description': '8 inch Display (1920x1200) ...', 'product_id': 104, 'product_name': 'NVIDIA SHIELD Tablet (WiFi)', 'reorder_level': 10, 'unit_price': 299.0}\n"
     ]
    }
   ],
   "source": [
    "# Write your code below this line\n",
    "prod_104 = {'discontinued': 0,\n",
    "'lead_time_days': 4,\n",
    "'product_category': 'Personal Computers',\n",
    "'product_description': '8 inch Display (1920x1200) ...',\n",
    "'product_id': 104,\n",
    "'product_name': 'NVIDIA SHIELD Tablet (WiFi)',\n",
    "'reorder_level': 10,\n",
    "'unit_price': 299.0}\n",
    "\n",
    "print(prod_104)\n"
   ]
  },
  {
   "cell_type": "markdown",
   "metadata": {},
   "source": [
    "# Question 6 (10 marks)"
   ]
  },
  {
   "cell_type": "markdown",
   "metadata": {},
   "source": [
    "Given the list of *suppliers* defined in the cell below, write python code to:\n",
    "\n",
    "1. Process the list of dictionaries to create a new list of dictionaries.\n",
    "\n",
    "2. Only include suppliers that are from Lake Peterfurt or Parkerborough in the new list.\n",
    "\n",
    "3. Print the length of the new list\n",
    "\n",
    "4. Print the contents of the new list\n",
    "\n",
    "Notes:\n",
    "- This problem must be solved in ONE LINE using *filter()* with a SINGLE *lambda* funtion\n",
    "\n",
    "Hints:\n",
    "- *Lab Task 3.4 - Advanced Techniques for Collections*\n",
    "- You can solve this problem using the \"or\" operator\n",
    "  - i.e. x['city'] == \"Parkerborough\" or x['city'] == \"Lake Peterfurt\"\n",
    "- Or you can use the \"in\" operator\n",
    "  - or x['city'] in [\"Parkerborough\", \"Lake Peterfurt\"]"
   ]
  },
  {
   "cell_type": "code",
   "execution_count": 6,
   "metadata": {},
   "outputs": [
    {
     "name": "stdout",
     "output_type": "stream",
     "text": [
      "Length of the New List is  2\n",
      "\n",
      "\n",
      "The new list is \n"
     ]
    },
    {
     "data": {
      "text/plain": [
       "[{'city': 'Lake Peterfurt',\n",
       "  'contact_firstname': 'Lucas',\n",
       "  'contact_lastname': 'Reyes',\n",
       "  'contact_title': 'Mr',\n",
       "  'country': 'Australia',\n",
       "  'email': 'lucas7404.reyes@gmail.com',\n",
       "  'notes': 'xyz',\n",
       "  'phone': '(02) 2310 6339',\n",
       "  'postcode': '2634',\n",
       "  'state': 'Reyes',\n",
       "  'street_address': '09 /\\n 0 Tara Laneway',\n",
       "  'supplier_id': 102,\n",
       "  'supplier_name': 'Mata, Townsend and Black'},\n",
       " {'city': 'Parkerborough',\n",
       "  'contact_firstname': 'Marcia',\n",
       "  'contact_lastname': 'Stanley',\n",
       "  'contact_title': 'Mrs',\n",
       "  'country': 'Australia',\n",
       "  'email': 'marcia2459.stanley@gmail.com',\n",
       "  'notes': '',\n",
       "  'phone': '(07) 2644 5735',\n",
       "  'postcode': '2619',\n",
       "  'state': 'Stanley',\n",
       "  'street_address': 'Suite 071\\n 3 Cody Upper',\n",
       "  'supplier_id': 103,\n",
       "  'supplier_name': 'White, Vargas and Ballard'}]"
      ]
     },
     "execution_count": 6,
     "metadata": {},
     "output_type": "execute_result"
    }
   ],
   "source": [
    "suppliers = [\n",
    "    {\n",
    "        \"city\": \"St. Kellyton\",\n",
    "        \"contact_firstname\": \"Michelle\",\n",
    "        \"contact_lastname\": \"Mitchell\",\n",
    "        \"contact_title\": \"Mrs\",\n",
    "        \"country\": \"Australia\",\n",
    "        \"email\": \"michelle3113.mitchell@gmail.com\",\n",
    "        \"notes\": \"\",\n",
    "        \"phone\": \"(03) 9269 4800\",\n",
    "        \"postcode\": \"2693\",\n",
    "        \"state\": \"Mitchell\",\n",
    "        \"street_address\": \"2 Alexander Grove\",\n",
    "        \"supplier_id\": 101,\n",
    "        \"supplier_name\": \"Ferguson Inc\"\n",
    "    },\n",
    "    {\n",
    "        \"city\": \"Lake Peterfurt\",\n",
    "        \"contact_firstname\": \"Lucas\",\n",
    "        \"contact_lastname\": \"Reyes\",\n",
    "        \"contact_title\": \"Mr\",\n",
    "        \"country\": \"Australia\",\n",
    "        \"email\": \"lucas7404.reyes@gmail.com\",\n",
    "        \"notes\": \"xyz\",\n",
    "        \"phone\": \"(02) 2310 6339\",\n",
    "        \"postcode\": \"2634\",\n",
    "        \"state\": \"Reyes\",\n",
    "        \"street_address\": \"09 /\\n 0 Tara Laneway\",\n",
    "        \"supplier_id\": 102,\n",
    "        \"supplier_name\": \"Mata, Townsend and Black\"\n",
    "    },\n",
    "    {\n",
    "        \"city\": \"Parkerborough\",\n",
    "        \"contact_firstname\": \"Marcia\",\n",
    "        \"contact_lastname\": \"Stanley\",\n",
    "        \"contact_title\": \"Mrs\",\n",
    "        \"country\": \"Australia\",\n",
    "        \"email\": \"marcia2459.stanley@gmail.com\",\n",
    "        \"notes\": \"\",\n",
    "        \"phone\": \"(07) 2644 5735\",\n",
    "        \"postcode\": \"2619\",\n",
    "        \"state\": \"Stanley\",\n",
    "        \"street_address\": \"Suite 071\\n 3 Cody Upper\",\n",
    "        \"supplier_id\": 103,\n",
    "        \"supplier_name\": \"White, Vargas and Ballard\"\n",
    "    }\n",
    "]\n",
    "\n",
    "# Insert all dicts with city=\"Parkerborough\" or city=\"Lake Peterfurt\" to the new list\n",
    "# Write your code below this line\n",
    "\n",
    "new_list = []\n",
    "for i in range(len(suppliers)):\n",
    "    if suppliers[i]['city'] == 'Lake Peterfurt' or suppliers[i]['city'] == 'Parkerborough':\n",
    "        new_list.append(suppliers[i])\n",
    "\n",
    "print('Length of the New List is ',len(new_list))\n",
    "\n",
    "print('\\n')\n",
    "\n",
    "print('The new list is ')\n",
    "new_list\n",
    "\n"
   ]
  },
  {
   "cell_type": "markdown",
   "metadata": {},
   "source": [
    "# Question 7 (10 marks)"
   ]
  },
  {
   "cell_type": "markdown",
   "metadata": {},
   "source": [
    "Given the list of *suppliers* defined in the cell below, write python code to:\n",
    "\n",
    "1. Process the list of dictionaries to create a list of supplier names formatted as *supplier_id - supplier_name* \n",
    "   - e.g. *101 - Ferguson Inc*, etc\n",
    "\n",
    "\n",
    "2. Print the newly created list\n",
    "\n",
    "Notes: \n",
    "- This problem must be solved in ONE LINE using *map()* with a SINGLE *lambda* function\n",
    "- The output can be obtained using string concatenation\n",
    "- Since supplier_id is a number, it must be cast to a string in order to be able to concatenate it with other strings\n",
    "\n",
    "Hints:\n",
    "- *Lab Task 3.4 - Advanced Techniques for Collections*"
   ]
  },
  {
   "cell_type": "code",
   "execution_count": 7,
   "metadata": {},
   "outputs": [
    {
     "name": "stdout",
     "output_type": "stream",
     "text": [
      "['101-Ferguson Inc', '102-Mata, Townsend and Black', '103-White, Vargas and Ballard']\n"
     ]
    }
   ],
   "source": [
    "suppliers = [\n",
    "    {\n",
    "        \"city\": \"St. Kellyton\",\n",
    "        \"contact_firstname\": \"Michelle\",\n",
    "        \"contact_lastname\": \"Mitchell\",\n",
    "        \"contact_title\": \"Mrs\",\n",
    "        \"country\": \"Australia\",\n",
    "        \"email\": \"michelle3113.mitchell@gmail.com\",\n",
    "        \"notes\": \"\",\n",
    "        \"phone\": \"(03) 9269 4800\",\n",
    "        \"postcode\": \"2693\",\n",
    "        \"state\": \"Mitchell\",\n",
    "        \"street_address\": \"2 Alexander Grove\",\n",
    "        \"supplier_id\": 101,\n",
    "        \"supplier_name\": \"Ferguson Inc\"\n",
    "    },\n",
    "    {\n",
    "        \"city\": \"Lake Peterfurt\",\n",
    "        \"contact_firstname\": \"Lucas\",\n",
    "        \"contact_lastname\": \"Reyes\",\n",
    "        \"contact_title\": \"Mr\",\n",
    "        \"country\": \"Australia\",\n",
    "        \"email\": \"lucas7404.reyes@gmail.com\",\n",
    "        \"notes\": \"xyz\",\n",
    "        \"phone\": \"(02) 2310 6339\",\n",
    "        \"postcode\": \"2634\",\n",
    "        \"state\": \"Reyes\",\n",
    "        \"street_address\": \"09 /\\n 0 Tara Laneway\",\n",
    "        \"supplier_id\": 102,\n",
    "        \"supplier_name\": \"Mata, Townsend and Black\"\n",
    "    },\n",
    "    {\n",
    "        \"city\": \"Parkerborough\",\n",
    "        \"contact_firstname\": \"Marcia\",\n",
    "        \"contact_lastname\": \"Stanley\",\n",
    "        \"contact_title\": \"Mrs\",\n",
    "        \"country\": \"Australia\",\n",
    "        \"email\": \"marcia2459.stanley@gmail.com\",\n",
    "        \"notes\": \"\",\n",
    "        \"phone\": \"(07) 2644 5735\",\n",
    "        \"postcode\": \"2619\",\n",
    "        \"state\": \"Stanley\",\n",
    "        \"street_address\": \"Suite 071\\n 3 Cody Upper\",\n",
    "        \"supplier_id\": 103,\n",
    "        \"supplier_name\": \"White, Vargas and Ballard\"\n",
    "    }\n",
    "]\n",
    "\n",
    "# Write your code below this line\n",
    "supplier_names = map(lambda x : str(x['supplier_id'])+'-'+x['supplier_name'],suppliers)\n",
    "\n",
    "print(list(supplier_names))"
   ]
  },
  {
   "cell_type": "markdown",
   "metadata": {},
   "source": [
    "# Question 8 (10 marks)"
   ]
  },
  {
   "cell_type": "markdown",
   "metadata": {},
   "source": [
    "Write Python code in the cell below to do the following:\n",
    "- Convert the date string \"21/02/2020\" to a python date object and print the date object.\n",
    "- Create a date object using the values (2020, 3, 20) and print the date object formatted as \"dd/mm/yyyy\" i.e. 20/03/2020\n",
    "\n",
    "Hint: \n",
    "- *Lab Task 2.3 - Data Type: Date and Datetime*"
   ]
  },
  {
   "cell_type": "code",
   "execution_count": 8,
   "metadata": {},
   "outputs": [
    {
     "name": "stdout",
     "output_type": "stream",
     "text": [
      "Type of the object\n",
      "<class 'datetime.date'>\n",
      "\n",
      "\n",
      "2020-02-21\n",
      "\n",
      "\n",
      "20/03/2020\n"
     ]
    }
   ],
   "source": [
    "# 1. Import python packages\n",
    "# Write your code below this line\n",
    "from datetime import datetime\n",
    "\n",
    "\n",
    "# 2. Convert a date string in the format \"dd/mm/yyyy\" to a date object and print it\n",
    "# Write your code below this line\n",
    "date = '21/02/2020'\n",
    "converted_date = datetime.strptime(date,'%d/%m/%Y').date()\n",
    "print('Type of the object')\n",
    "print(type(converted_date))\n",
    "print('\\n')\n",
    "print(converted_date)\n",
    "\n",
    "\n",
    "# 3. Given a date object, format it as \"dd/mm/yyyy\"\n",
    "# Write your code below this line\n",
    "print('\\n')\n",
    "dt_obj = datetime(2020, 3, 20)\n",
    "date_str = dt_obj.strftime(\"%d/%m/%Y\")\n",
    "print (date_str)\n"
   ]
  },
  {
   "cell_type": "markdown",
   "metadata": {},
   "source": [
    "# Question 9 (10 marks)"
   ]
  },
  {
   "cell_type": "markdown",
   "metadata": {},
   "source": [
    "We have some Australian land line phone numbers in the format: \"*(area code) 9999 9999*\" e.g. \"*(03) 9269 4800*\"\n",
    "\n",
    "Write a program to print the area code of an Australian land line phone number. \n",
    "\n",
    "Example:\n",
    "If the phone number is: *(03) 9269 4800*, then *03* should be printed:\n",
    "\n",
    "Hint: \n",
    "- *Lab Task 3.5 - Regular Expressions*"
   ]
  },
  {
   "cell_type": "code",
   "execution_count": 9,
   "metadata": {},
   "outputs": [
    {
     "name": "stdout",
     "output_type": "stream",
     "text": [
      "['03']\n",
      "\n",
      "\n",
      "03\n"
     ]
    }
   ],
   "source": [
    "# Regex explanation\n",
    "\n",
    "# ^        # Match the start of the line\n",
    "# .*?      # Non-greedy match anything\n",
    "# \\(       # Up to the first opening bracket - opening bracket must be escaped with \\\n",
    "# [^\\d]*   # Match anything that is not a digit (* means zero or more)\n",
    "# (\\d+)    # Match a digit string (+ means one or more)\n",
    "# [^\\d]*   # Match anything that is not a digit (* means zero or more)\n",
    "# \\)       # Match a closing bracket - closing bracket must be escaped with \\\n",
    "# .*       # Match the rest of the line\n",
    "# $        # Match the end of the line\n",
    "\n",
    "\n",
    "# Write your code below this line\n",
    "import re\n",
    "\n",
    "phone = '(03) 9269 4800'\n",
    "\n",
    "matches = re.findall('\\((.*?)\\)',phone)\n",
    "\n",
    "print(matches)\n",
    "print('\\n')\n",
    "print(matches[0])"
   ]
  },
  {
   "cell_type": "markdown",
   "metadata": {},
   "source": [
    "# Question 10 (10 marks)"
   ]
  },
  {
   "cell_type": "markdown",
   "metadata": {},
   "source": [
    "In the cell below, write a class to represent a *Supplier* as per following specifications:\n",
    "\n",
    "- Class name: *Supplier* (note uppercase \"S\")\n",
    "\n",
    "- Define instance attributes as specified by the items in dictionary object *supplier2* i.e. *city*, *contact_firstname*, etc.\n",
    "\n",
    "- Define an *\\__init\\__()* (note: 2 underscores before and after init!) method which initialises the instance attributes to the value of the parameters passed to the method\n",
    "\n",
    "- Define a *set_supplier_name()* method which sets the supplier_name in the instance variable to the value of the parameter passed\n",
    "\n",
    "- Define a *get_supplier_details()* method which returns the supplier details formatted as \"*supplier_id - supplier_name*\"\n",
    "\n",
    "After having defined the class, you need to test the class and its methods to show that it works. You can do this as follows:\n",
    "\n",
    "- Instantiate an object of the class (name it *supp*) and pass *supplier2* to the initialiser (pass the whole *supplier2* object, not individual attributes)\n",
    "\n",
    "- Set the *supplier_name* to something different (e.g. Ferguson & Sons Ltd) by calling *set_supplier_name()* and passing it an appropriate parameter\n",
    "\n",
    "- Call *get_supplier_details()* to get the supplier id and name (and print it)\n",
    "\n",
    "Hint: \n",
    "- *Lab Task 4.1 - Implement a class* and *Week 4 Lecture notes*"
   ]
  },
  {
   "cell_type": "code",
   "execution_count": 10,
   "metadata": {},
   "outputs": [
    {
     "name": "stdout",
     "output_type": "stream",
     "text": [
      "101 - Ferguson & Sons Ltd\n"
     ]
    }
   ],
   "source": [
    "supplier2 = {\n",
    "        \"city\": \"St. Kellyton\",\n",
    "        \"contact_firstname\": \"Michelle\",\n",
    "        \"contact_lastname\": \"Mitchell\",\n",
    "        \"contact_title\": \"Mrs\",\n",
    "        \"country\": \"Australia\",\n",
    "        \"email\": \"michelle3113.mitchell@gmail.com\",\n",
    "        \"notes\": \"\",\n",
    "        \"phone\": \"(03) 9269 4800\",\n",
    "        \"postcode\": \"2693\",\n",
    "        \"state\": \"Mitchell\",\n",
    "        \"street_address\": \"2 Alexander Grove\",\n",
    "        \"supplier_id\": 101,\n",
    "        \"supplier_name\": \"Ferguson Inc\"\n",
    "}\n",
    "\n",
    "# 1. Define the class here\n",
    "# Write your code below this line\n",
    "\n",
    "class Supplier():\n",
    "    def __init__(self,supplier):\n",
    "        self.city = supplier['city']\n",
    "        self.contact_firstname = supplier['contact_firstname']\n",
    "        self.contact_lastname = supplier['contact_lastname']\n",
    "        self.contact_title = supplier['contact_title']\n",
    "        self.country = supplier['country']\n",
    "        self.email = supplier['email']\n",
    "        self.notes = supplier['notes']\n",
    "        self.phone = supplier['phone']\n",
    "        self.postcode = supplier['postcode']\n",
    "        self.state = supplier['state']\n",
    "        self.street_address = supplier['street_address']\n",
    "        self.supplier_id = supplier['supplier_id']\n",
    "        self.supplier_name = supplier['supplier_name']\n",
    "\n",
    "    def set_supplier_name(self,new_supplier_name):\n",
    "        self.supplier_name = new_supplier_name\n",
    "        \n",
    "    def get_supplier_details(self):\n",
    "        concated_name = str(self.supplier_id) + ' - '+ self.supplier_name\n",
    "        return concated_name\n",
    "\n",
    "\n",
    "# 2 Instantiate the class and call its methods here\n",
    "# Write your code below this line\n",
    "\n",
    "\n",
    "supp = Supplier(supplier2)\n",
    "\n",
    "supp.set_supplier_name('Ferguson & Sons Ltd')\n",
    "\n",
    "print(supp.get_supplier_details())"
   ]
  },
  {
   "cell_type": "markdown",
   "metadata": {},
   "source": [
    "###### © France and Christopher Cheong 2019"
   ]
  }
 ],
 "metadata": {
  "anaconda-cloud": {},
  "kernelspec": {
   "display_name": "Python 3",
   "language": "python",
   "name": "python3"
  },
  "language_info": {
   "codemirror_mode": {
    "name": "ipython",
    "version": 3
   },
   "file_extension": ".py",
   "mimetype": "text/x-python",
   "name": "python",
   "nbconvert_exporter": "python",
   "pygments_lexer": "ipython3",
   "version": "3.6.5"
  }
 },
 "nbformat": 4,
 "nbformat_minor": 4
}
